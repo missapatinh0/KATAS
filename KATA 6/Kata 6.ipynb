{
 "cells": [
  {
   "cell_type": "code",
   "execution_count": 2,
   "metadata": {},
   "outputs": [
    {
     "name": "stdout",
     "output_type": "stream",
     "text": [
      "['Mercurio', 'Venus', 'Tierra', 'Marte', 'Jupiter', 'Saturno', 'Urano', 'Neptuno']\n"
     ]
    }
   ],
   "source": [
    "#listas \n",
    "planetas = ['Mercurio', 'Venus', 'Tierra', 'Marte', 'Jupiter', 'Saturno', 'Urano', 'Neptuno']\n",
    "\n",
    "print(planetas)"
   ]
  },
  {
   "cell_type": "code",
   "execution_count": 3,
   "metadata": {},
   "outputs": [
    {
     "name": "stdout",
     "output_type": "stream",
     "text": [
      "El primer planeta es  Mercurio\n",
      "El segundo planeta es  Venus\n",
      "El tercer planeta es  Tierra\n",
      "El ultimo planeta es  Neptuno\n"
     ]
    }
   ],
   "source": [
    "#listas, acceder por indice como los arreglos\n",
    "print('El primer planeta es ', planetas[0])\n",
    "print('El segundo planeta es ', planetas[1])\n",
    "print('El tercer planeta es ', planetas[2])\n",
    "print('El ultimo planeta es ', planetas[7])\n"
   ]
  },
  {
   "cell_type": "code",
   "execution_count": 4,
   "metadata": {},
   "outputs": [
    {
     "name": "stdout",
     "output_type": "stream",
     "text": [
      "Marte tambien es conocido como  El planeta rojo\n"
     ]
    }
   ],
   "source": [
    "# modificar un lemento de la lista\n",
    "planetas[3] = 'El planeta rojo'\n",
    "print('Marte tambien es conocido como ', planetas[3])\n"
   ]
  },
  {
   "cell_type": "code",
   "execution_count": 5,
   "metadata": {},
   "outputs": [
    {
     "name": "stdout",
     "output_type": "stream",
     "text": [
      "Hay  8 planetas en nuestro sistema solar.\n"
     ]
    }
   ],
   "source": [
    "#longitud funcion len\n",
    "numero_de_planetas = len(planetas)\n",
    "print('Hay ', numero_de_planetas, 'planetas en nuestro sistema solar.')"
   ]
  },
  {
   "cell_type": "code",
   "execution_count": 6,
   "metadata": {},
   "outputs": [
    {
     "name": "stdout",
     "output_type": "stream",
     "text": [
      "En la actualidad hay  9 planetas en nuestro sistema solar.\n"
     ]
    }
   ],
   "source": [
    "# agregar valore con funcion append\n",
    "planetas.append('Pluton')\n",
    "numero_de_planetas = len(planetas)\n",
    "print('En la actualidad hay ', numero_de_planetas, 'planetas en nuestro sistema solar.')"
   ]
  },
  {
   "cell_type": "code",
   "execution_count": 7,
   "metadata": {},
   "outputs": [
    {
     "name": "stdout",
     "output_type": "stream",
     "text": [
      " aun que definitivamente hay  8 planetas en nuestro sitema solar.\n"
     ]
    }
   ],
   "source": [
    "# Borrar un elemento (en especifico borra el ultimo elemento de la lista) de la lista con funcion pop\n",
    "planetas.pop()  # Goodbye, Pluto\n",
    "numero_de_planetas = len(planetas)\n",
    "print(' aun que definitivamente hay ', numero_de_planetas, 'planetas en nuestro sitema solar.')\n"
   ]
  },
  {
   "cell_type": "code",
   "execution_count": 9,
   "metadata": {},
   "outputs": [
    {
     "name": "stdout",
     "output_type": "stream",
     "text": [
      "El ultimo planeta es Neptuno\n",
      "El penultimo planeta es Urano\n"
     ]
    }
   ],
   "source": [
    "#indices negativos\n",
    "print('El ultimo planeta es', planetas[-1])\n",
    "#muestra el utimo elemento\n",
    "print('El penultimo planeta es', planetas[-2])\n",
    "#muestra el penultimo"
   ]
  },
  {
   "cell_type": "code",
   "execution_count": 10,
   "metadata": {},
   "outputs": [
    {
     "name": "stdout",
     "output_type": "stream",
     "text": [
      "Jupiter es el 5 planeta desde el sol\n"
     ]
    }
   ],
   "source": [
    "#Buscar un valor en una lista con funcion index\n",
    "jupiter_indice = planetas.index('Jupiter')\n",
    "print('Jupiter es el', jupiter_indice + 1, 'planeta desde el sol')"
   ]
  },
  {
   "cell_type": "code",
   "execution_count": 11,
   "metadata": {},
   "outputs": [],
   "source": [
    "#asignacion de flotantes a variables\n",
    "gravedad_en_la_tierra = 1.0\n",
    "gravedad_en_la_luna = 0.166"
   ]
  },
  {
   "cell_type": "code",
   "execution_count": 13,
   "metadata": {},
   "outputs": [
    {
     "name": "stdout",
     "output_type": "stream",
     "text": [
      "La gravedad en Mercurio es 0.378\n"
     ]
    }
   ],
   "source": [
    "#listas con flotantes\n",
    "gravedad_de_planetas = [0.378, 0.907, 1, 0.379, 2.36, 0.916, 0.889, 1.12]\n",
    "\n",
    "print('La gravedad en Mercurio es', gravedad_de_planetas[0])"
   ]
  },
  {
   "cell_type": "code",
   "execution_count": 14,
   "metadata": {},
   "outputs": [
    {
     "name": "stdout",
     "output_type": "stream",
     "text": [
      "en la Tierra, un autobus de doble piso pesa  12650 kg\n",
      "En Mercurio, un autobus de doble piso pesa 4781.7 kg\n"
     ]
    }
   ],
   "source": [
    "# ejemplo de gravedad de camion en mercurio\n",
    "peso_autobus = 12650 # en kilogramos\n",
    "\n",
    "print('en la Tierra, un autobus de doble piso pesa ', peso_autobus, 'kg')\n",
    "print('En Mercurio, un autobus de doble piso pesa',  peso_autobus * gravedad_de_planetas[0], 'kg')"
   ]
  },
  {
   "cell_type": "code",
   "execution_count": 15,
   "metadata": {},
   "outputs": [
    {
     "name": "stdout",
     "output_type": "stream",
     "text": [
      "El min es:  0.378\n",
      "El max es:  2.36\n"
     ]
    }
   ],
   "source": [
    "#funcion min() y max()en listas\n",
    "print('El min es: ',min(gravedad_de_planetas))\n",
    "\n",
    "print('El max es: ',max(gravedad_de_planetas))\n",
    "\n"
   ]
  },
  {
   "cell_type": "code",
   "execution_count": 16,
   "metadata": {},
   "outputs": [
    {
     "name": "stdout",
     "output_type": "stream",
     "text": [
      "en la Tierra, un autobus de doble piso pesa  12650 kg\n",
      "El autobus mas ligero en nuestr sistema solas es  4781.7 kg\n",
      "El autobus mas pesado en nuestr sistema solas es 29854.0 kg\n"
     ]
    }
   ],
   "source": [
    "#ejemplo de min y max\n",
    "peso_autobus = 12650 \n",
    "\n",
    "print('en la Tierra, un autobus de doble piso pesa ', peso_autobus, 'kg')\n",
    "print('El autobus mas ligero en nuestr sistema solas es ', peso_autobus * min(gravedad_de_planetas), 'kg')\n",
    "print('El autobus mas pesado en nuestr sistema solas es', peso_autobus * max(gravedad_de_planetas), 'kg')"
   ]
  },
  {
   "cell_type": "code",
   "execution_count": 19,
   "metadata": {},
   "outputs": [
    {
     "name": "stdout",
     "output_type": "stream",
     "text": [
      "['Mercurio', 'Venus']\n"
     ]
    }
   ],
   "source": [
    "#manipulacion de datos con Slice\n",
    "planetas = ['Mercurio', 'Venus', 'Tierra', 'Marte', 'Jupiter', 'Saturno', 'Urano', 'Neptuno']\n",
    "planetas_antes_tierra = planetas[0:2] #el slice dice que solo saque del elemento 0 al 2\n",
    "print(planetas_antes_tierra)"
   ]
  },
  {
   "cell_type": "code",
   "execution_count": 20,
   "metadata": {},
   "outputs": [
    {
     "name": "stdout",
     "output_type": "stream",
     "text": [
      "['Marte', 'Jupiter', 'Saturno', 'Urano', 'Neptuno']\n"
     ]
    }
   ],
   "source": [
    "#segundo ejemplo slice\n",
    "planetas_despues_tierra = planetas[3:8]\n",
    "print(planetas_despues_tierra) "
   ]
  },
  {
   "cell_type": "code",
   "execution_count": 22,
   "metadata": {},
   "outputs": [
    {
     "name": "stdout",
     "output_type": "stream",
     "text": [
      "['Marte', 'Jupiter', 'Saturno', 'Urano', 'Neptuno']\n"
     ]
    }
   ],
   "source": [
    "#tercer ejemplo slicen sin parametro de final\n",
    "planetas_despues_tierra= planetas[3:]# asuem que empieza en 3 y va hasta el final\n",
    "print(planetas_despues_tierra)"
   ]
  },
  {
   "cell_type": "code",
   "execution_count": 23,
   "metadata": {},
   "outputs": [
    {
     "name": "stdout",
     "output_type": "stream",
     "text": [
      "The regular satellite moons of Jupiter are ['Metis', 'Adrastea', 'Amalthea', 'Thebe', 'Io', 'Europa', 'Ganymede', 'Callisto']\n"
     ]
    }
   ],
   "source": [
    "# union de listas con +\n",
    "amalthea_group = ['Metis', 'Adrastea', 'Amalthea', 'Thebe']\n",
    "galilean_moons = ['Io', 'Europa', 'Ganymede', 'Callisto']\n",
    "\n",
    "regular_satellite_moons = amalthea_group + galilean_moons\n",
    "print('The regular satellite moons of Jupiter are', regular_satellite_moons)\n"
   ]
  },
  {
   "cell_type": "code",
   "execution_count": 24,
   "metadata": {},
   "outputs": [
    {
     "name": "stdout",
     "output_type": "stream",
     "text": [
      "The regular satellite moons of Jupiter are ['Adrastea', 'Amalthea', 'Callisto', 'Europa', 'Ganymede', 'Io', 'Metis', 'Thebe']\n"
     ]
    }
   ],
   "source": [
    "#ordenar lista con sort()\n",
    "\n",
    "regular_satellite_moons.sort()\n",
    "print(\"The regular satellite moons of Jupiter are\", regular_satellite_moons)"
   ]
  },
  {
   "cell_type": "code",
   "execution_count": 25,
   "metadata": {},
   "outputs": [
    {
     "name": "stdout",
     "output_type": "stream",
     "text": [
      "The regular satellite moons of Jupiter are ['Thebe', 'Metis', 'Io', 'Ganymede', 'Europa', 'Callisto', 'Amalthea', 'Adrastea']\n"
     ]
    }
   ],
   "source": [
    "#ordenamiento de forma inversa con sort()\n",
    "regular_satellite_moons.sort(reverse=True)\n",
    "print(\"The regular satellite moons of Jupiter are\", regular_satellite_moons)"
   ]
  }
 ],
 "metadata": {
  "interpreter": {
   "hash": "d2cadd893bfc71037801024f08fbf77d5b60b7694862eb4e2a43dfb50428443c"
  },
  "kernelspec": {
   "display_name": "Python 3.9.10 64-bit (system)",
   "language": "python",
   "name": "python3"
  },
  "language_info": {
   "codemirror_mode": {
    "name": "ipython",
    "version": 3
   },
   "file_extension": ".py",
   "mimetype": "text/x-python",
   "name": "python",
   "nbconvert_exporter": "python",
   "pygments_lexer": "ipython3",
   "version": "3.9.10"
  },
  "orig_nbformat": 4
 },
 "nbformat": 4,
 "nbformat_minor": 2
}
