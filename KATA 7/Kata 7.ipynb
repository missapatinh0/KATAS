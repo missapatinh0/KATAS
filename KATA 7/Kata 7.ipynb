{
 "cells": [
  {
   "cell_type": "markdown",
   "metadata": {},
   "source": [
    "#Estructuras de control while y for"
   ]
  },
  {
   "cell_type": "code",
   "execution_count": 1,
   "metadata": {},
   "outputs": [],
   "source": [
    "#while con input\n",
    "entrada_usuario = ''\n",
    "\n",
    "while entrada_usuario.lower() != 'gracias':\n",
    "    entrada_usuario = input('Teclea un nuevo valor, o escribe gracias para salir')"
   ]
  },
  {
   "cell_type": "code",
   "execution_count": 2,
   "metadata": {},
   "outputs": [],
   "source": [
    "#2do ejemplo de while \n",
    "# Creamos la variable que almacena el texto\n",
    "entrada_usuario = ''\n",
    "# Creamos la lista que almacena cada uno de los textos que el usuario ingresa\n",
    "inputs = []\n",
    "\n",
    "# Ciclo while\n",
    "while entrada_usuario.lower() != 'salir':\n",
    "    # Verificamos si hay un valor en user_input\n",
    "    if entrada_usuario:\n",
    "        # Almacenamos ese valor en la lista\n",
    "        inputs.append(entrada_usuario)\n",
    "    # Capturamos un nuevo valor\n",
    "    entrada_usuario = input('Teclea un nuevo valor, o escribe salir para terminar el programa')"
   ]
  },
  {
   "cell_type": "code",
   "execution_count": 10,
   "metadata": {},
   "outputs": [
    {
     "name": "stdout",
     "output_type": "stream",
     "text": [
      "El primer planeta es  Mercurio\n",
      "El segundo planeta es  Venus\n",
      "El tercer planeta es  Tierra\n",
      "el total de planetas es:  8\n",
      "\n",
      " El planeta  1 es:  Mercurio\n",
      "\n",
      " El planeta  2 es:  Venus\n",
      "\n",
      " El planeta  3 es:  Tierra\n",
      "\n",
      " El planeta  4 es:  Marte\n",
      "\n",
      " El planeta  5 es:  Jupiter\n",
      "\n",
      " El planeta  6 es:  Saturno\n",
      "\n",
      " El planeta  7 es:  Urano\n",
      "\n",
      " El planeta  8 es:  Neptuno\n"
     ]
    }
   ],
   "source": [
    "# ejemplo de while en listas\n",
    "planetas = [\"Mercurio\", \"Venus\", \"Tierra\", \"Marte\", \"Jupiter\", \"Saturno\", \"Urano\", \"Neptuno\"]\n",
    "\n",
    "print(\"El primer planeta es \", planetas[0])\n",
    "print(\"El segundo planeta es \", planetas[1])\n",
    "print(\"El tercer planeta es \", planetas[2])\n",
    "\n",
    "#ahora lo haremos con while\n",
    "cantidad_planetas= len(planetas)\n",
    "print(\"el total de planetas es: \",cantidad_planetas)\n",
    "iterador=0\n",
    "\n",
    "while iterador <= cantidad_planetas-1:\n",
    "    \n",
    "    print('\\n El planeta ',iterador+1, \"es: \",planetas[iterador])\n",
    "    iterador=iterador+1"
   ]
  },
  {
   "cell_type": "code",
   "execution_count": 11,
   "metadata": {},
   "outputs": [
    {
     "name": "stdout",
     "output_type": "stream",
     "text": [
      "4\n",
      "3\n",
      "2\n",
      "1\n",
      "0\n",
      "Despegue!! 🚀\n"
     ]
    }
   ],
   "source": [
    "#for en listas\n",
    "cuenta_regresiva = [4, 3, 2, 1, 0]\n",
    "for i in cuenta_regresiva:\n",
    "    print(i)\n",
    "print(\"Despegue!! 🚀\")"
   ]
  },
  {
   "cell_type": "code",
   "execution_count": 17,
   "metadata": {},
   "outputs": [
    {
     "name": "stdout",
     "output_type": "stream",
     "text": [
      "4\n"
     ]
    },
    {
     "ename": "NameError",
     "evalue": "name 'clear_output' is not defined",
     "output_type": "error",
     "traceback": [
      "\u001b[1;31m---------------------------------------------------------------------------\u001b[0m",
      "\u001b[1;31mNameError\u001b[0m                                 Traceback (most recent call last)",
      "\u001b[1;32mUntitled-1.ipynb Cell 6'\u001b[0m in \u001b[0;36m<module>\u001b[1;34m\u001b[0m\n\u001b[0;32m     <a href='vscode-notebook-cell:Untitled-1.ipynb?jupyter-notebook#ch0000006untitled?line=13'>14</a>\u001b[0m     \u001b[39m# Espera (1segundo)\u001b[39;00m\n\u001b[0;32m     <a href='vscode-notebook-cell:Untitled-1.ipynb?jupyter-notebook#ch0000006untitled?line=14'>15</a>\u001b[0m     sleep(\u001b[39m1\u001b[39m)\n\u001b[1;32m---> <a href='vscode-notebook-cell:Untitled-1.ipynb?jupyter-notebook#ch0000006untitled?line=15'>16</a>\u001b[0m     clear_output()\n\u001b[0;32m     <a href='vscode-notebook-cell:Untitled-1.ipynb?jupyter-notebook#ch0000006untitled?line=16'>17</a>\u001b[0m \u001b[39m# Muestra el mensaje Blast off\u001b[39;00m\n\u001b[0;32m     <a href='vscode-notebook-cell:Untitled-1.ipynb?jupyter-notebook#ch0000006untitled?line=17'>18</a>\u001b[0m \u001b[39mprint\u001b[39m(\u001b[39m\"\u001b[39m\u001b[39mDespegue!! 🚀\u001b[39m\u001b[39m\"\u001b[39m)\n",
      "\u001b[1;31mNameError\u001b[0m: name 'clear_output' is not defined"
     ]
    }
   ],
   "source": [
    "#Cuenta regresiva con sleep\n",
    "# De la biblioteca time, importamos (traemos) la clase sleep\n",
    "\n",
    "from time import sleep\n",
    "\n",
    "# Creamos una lista de 5 números llamada countdown\n",
    "cuenta_regresiva = [4, 3, 2, 1, 0]\n",
    "\n",
    "# Para cada número en countdown\n",
    "for num in cuenta_regresiva:\n",
    "    #Muestra el número\n",
    "    print(num)\n",
    "\n",
    "    # Espera (1segundo)\n",
    "    sleep(1)\n",
    "    \n",
    "# Muestra el mensaje Blast off\n",
    "print(\"Despegue!! 🚀\")\n"
   ]
  }
 ],
 "metadata": {
  "interpreter": {
   "hash": "d2cadd893bfc71037801024f08fbf77d5b60b7694862eb4e2a43dfb50428443c"
  },
  "kernelspec": {
   "display_name": "Python 3.9.10 64-bit (system)",
   "language": "python",
   "name": "python3"
  },
  "language_info": {
   "codemirror_mode": {
    "name": "ipython",
    "version": 3
   },
   "file_extension": ".py",
   "mimetype": "text/x-python",
   "name": "python",
   "nbconvert_exporter": "python",
   "pygments_lexer": "ipython3",
   "version": "3.9.10"
  },
  "orig_nbformat": 4
 },
 "nbformat": 4,
 "nbformat_minor": 2
}
