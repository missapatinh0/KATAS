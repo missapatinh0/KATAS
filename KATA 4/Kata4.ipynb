{
 "cells": [
  {
   "cell_type": "code",
   "execution_count": 3,
   "metadata": {},
   "outputs": [
    {
     "name": "stdout",
     "output_type": "stream",
     "text": [
      "The Moon has no atmosphere.\n",
      "The Moon has no atmosphere.No sound can be heard on the Moon.\n"
     ]
    }
   ],
   "source": [
    "#inmutabilidad\n",
    "fact = 'The Moon has no atmosphere.'\n",
    "fact+ 'No sound can be heard on the Moon.'\n",
    "print(fact)\n",
    "fact2=fact+ 'No sound can be heard on the Moon.'\n",
    "print(fact2)"
   ]
  },
  {
   "cell_type": "code",
   "execution_count": 5,
   "metadata": {},
   "outputs": [
    {
     "name": "stdout",
     "output_type": "stream",
     "text": [
      "The Moon has a radius of 1,080 miles\n",
      "The \"near side\" is the part of the Moon that faces the Earth\n",
      "We only see about 60% of the Moon's surface\n"
     ]
    }
   ],
   "source": [
    "# comillas\n",
    "moon_radius = \"The Moon has a radius of 1,080 miles\"\n",
    "ejemplo='The \"near side\" is the part of the Moon that faces the Earth'\n",
    "ejemplo2=\"We only see about 60% of the Moon's surface\"\n",
    "#Error jamas escibir asi 'We only see about 60% of the Moon's surface'\n",
    "print(moon_radius)\n",
    "print(ejemplo)\n",
    "print(ejemplo2)"
   ]
  },
  {
   "cell_type": "code",
   "execution_count": 8,
   "metadata": {},
   "outputs": [
    {
     "name": "stdout",
     "output_type": "stream",
     "text": [
      "Facts about the Moon:\n",
      " There is no atmosphere.\n",
      " There is no sound.\n",
      "Facts about the Moon:\n",
      "..  There is no atmosphere.\n",
      "..  There is no sound.\n"
     ]
    }
   ],
   "source": [
    "#texto multilinea con \\n\n",
    "multiline = \"Facts about the Moon:\\n There is no atmosphere.\\n There is no sound.\"\n",
    "print(multiline)\n",
    "\n",
    "#texto multilinea con comillas triple\n",
    "multiline = \"\"\"Facts about the Moon:\n",
    "..  There is no atmosphere.\n",
    "..  There is no sound.\"\"\"\n",
    "print(multiline)"
   ]
  },
  {
   "cell_type": "code",
   "execution_count": 10,
   "metadata": {},
   "outputs": [
    {
     "data": {
      "text/plain": [
       "'Temperatures And Facts About The Moon'"
      ]
     },
     "execution_count": 10,
     "metadata": {},
     "output_type": "execute_result"
    }
   ],
   "source": [
    "#metodo title directo\n",
    "'temperatures and facts about the moon'.title()\n",
    "\n"
   ]
  },
  {
   "cell_type": "code",
   "execution_count": 11,
   "metadata": {},
   "outputs": [
    {
     "data": {
      "text/plain": [
       "'Temperatures And Facts About The Moon'"
      ]
     },
     "execution_count": 11,
     "metadata": {},
     "output_type": "execute_result"
    }
   ],
   "source": [
    "#metodo title cob variable\n",
    "heading = 'temperatures and facts about the moon'\n",
    "heading.title()"
   ]
  },
  {
   "cell_type": "code",
   "execution_count": 2,
   "metadata": {},
   "outputs": [
    {
     "data": {
      "text/plain": [
       "['Daylight:', '260', 'F', '...', 'Nighttime:', '-280', 'F']"
      ]
     },
     "execution_count": 2,
     "metadata": {},
     "output_type": "execute_result"
    }
   ],
   "source": [
    "#split\n",
    "temperatures = '''Daylight: 260 F\n",
    "... Nighttime: -280 F'''\n",
    "temperatures .split()\n"
   ]
  },
  {
   "cell_type": "code",
   "execution_count": 14,
   "metadata": {},
   "outputs": [
    {
     "data": {
      "text/plain": [
       "['Daylight: 260 F', '... Nighttime: -280 F']"
      ]
     },
     "execution_count": 14,
     "metadata": {},
     "output_type": "execute_result"
    }
   ],
   "source": [
    "#split \n",
    "temperatures .split('\\n')"
   ]
  },
  {
   "cell_type": "code",
   "execution_count": 15,
   "metadata": {},
   "outputs": [
    {
     "data": {
      "text/plain": [
       "False"
      ]
     },
     "execution_count": 15,
     "metadata": {},
     "output_type": "execute_result"
    }
   ],
   "source": [
    "#buscar cadena sin metodo\n",
    "'Moon' in 'This text will describe facts and challenges with space travel'"
   ]
  },
  {
   "cell_type": "code",
   "execution_count": 16,
   "metadata": {},
   "outputs": [
    {
     "data": {
      "text/plain": [
       "True"
      ]
     },
     "execution_count": 16,
     "metadata": {},
     "output_type": "execute_result"
    }
   ],
   "source": [
    "#buscar cadena sin metodo\n",
    "'Moon' in 'This text will describe facts about the Moon'"
   ]
  },
  {
   "cell_type": "code",
   "execution_count": 20,
   "metadata": {},
   "outputs": [
    {
     "data": {
      "text/plain": [
       "-1"
      ]
     },
     "execution_count": 20,
     "metadata": {},
     "output_type": "execute_result"
    }
   ],
   "source": [
    "#buscar cadena con metodo\n",
    "temperatures = \"\"\"Saturn has a daytime temperature of -170 degrees Celsius,\n",
    "... while Mars has -28 Celsius.\"\"\"\n",
    "temperatures.find('Moon')\n",
    "#la funcion regresa la pocision de la de la palabra en la cadena, si no la encuentra regresa -1"
   ]
  },
  {
   "cell_type": "code",
   "execution_count": 19,
   "metadata": {},
   "outputs": [
    {
     "data": {
      "text/plain": [
       "68"
      ]
     },
     "execution_count": 19,
     "metadata": {},
     "output_type": "execute_result"
    }
   ],
   "source": [
    "#buscar cadena con metodo\n",
    "temperatures = \"\"\"Saturn has a daytime temperature of -170 degrees Celsius,\n",
    "... while Mars has -28 Celsius.\"\"\"\n",
    "temperatures.find('Mars')\n",
    "#la funcion regresa la pocision de la de la palabra en la cadena, si no la encuentra regresa -1"
   ]
  },
  {
   "cell_type": "code",
   "execution_count": 22,
   "metadata": {},
   "outputs": [
    {
     "data": {
      "text/plain": [
       "1"
      ]
     },
     "execution_count": 22,
     "metadata": {},
     "output_type": "execute_result"
    }
   ],
   "source": [
    "#buscar palabra con count\n",
    "temperatures.count('Mars')\n",
    "#count nos dira cuantas veces se encuntra esta palabra dentro de la cadena"
   ]
  },
  {
   "cell_type": "code",
   "execution_count": 24,
   "metadata": {},
   "outputs": [
    {
     "data": {
      "text/plain": [
       "'pytnon es lo maximo junto con launch x'"
      ]
     },
     "execution_count": 24,
     "metadata": {},
     "output_type": "execute_result"
    }
   ],
   "source": [
    "#lower\n",
    "\"PYTNON ES LO MAXIMO JUNTO CON LAUNCH X\".lower()\n",
    "#lower convierte la cadena a minusculas"
   ]
  },
  {
   "cell_type": "code",
   "execution_count": 25,
   "metadata": {},
   "outputs": [
    {
     "data": {
      "text/plain": [
       "'PYTNON ES LO MAXIMO JUNTO CON LAUNCH X'"
      ]
     },
     "execution_count": 25,
     "metadata": {},
     "output_type": "execute_result"
    }
   ],
   "source": [
    "#upper\n",
    "'pytnon es lo maximo junto con launch x'.upper()\n",
    "#upper consierte la cadena a mayusculas"
   ]
  },
  {
   "cell_type": "code",
   "execution_count": 5,
   "metadata": {},
   "outputs": [],
   "source": [
    "# extraer texto en cadena con split()\n",
    "temperatures = 'Mars Average Temperature: -60 C'"
   ]
  },
  {
   "cell_type": "code",
   "execution_count": 6,
   "metadata": {},
   "outputs": [
    {
     "name": "stdout",
     "output_type": "stream",
     "text": [
      "['Mars Average Temperature', ' -60 C']\n"
     ]
    }
   ],
   "source": [
    "# extraer texto en cadena con split()\n",
    "\n",
    "parts = temperatures.split(':')\n",
    "parts\n",
    "\n",
    "print(parts)"
   ]
  },
  {
   "cell_type": "code",
   "execution_count": 7,
   "metadata": {},
   "outputs": [
    {
     "data": {
      "text/plain": [
       "' -60 C'"
      ]
     },
     "execution_count": 7,
     "metadata": {},
     "output_type": "execute_result"
    }
   ],
   "source": [
    "# extraer texto en cadena con split()\n",
    "parts[-1]\n",
    "#usando [-1] nos devuelve el ultimo elemento"
   ]
  },
  {
   "cell_type": "code",
   "execution_count": 11,
   "metadata": {},
   "outputs": [
    {
     "name": "stdout",
     "output_type": "stream",
     "text": [
      "30\n"
     ]
    }
   ],
   "source": [
    "#texto irregular con for\n",
    "mars_temperature = 'The highest temperature on Mars is about 30 C'\n",
    "for item in mars_temperature.split():\n",
    "     if item.isnumeric():\n",
    "        print(item)"
   ]
  },
  {
   "cell_type": "code",
   "execution_count": 13,
   "metadata": {},
   "outputs": [
    {
     "data": {
      "text/plain": [
       "True"
      ]
     },
     "execution_count": 13,
     "metadata": {},
     "output_type": "execute_result"
    }
   ],
   "source": [
    "# funcion starswith , comienza con \n",
    "'-60'.startswith('-')\n"
   ]
  },
  {
   "cell_type": "code",
   "execution_count": 14,
   "metadata": {},
   "outputs": [
    {
     "name": "stdout",
     "output_type": "stream",
     "text": [
      "This temperature is in Celsius\n"
     ]
    }
   ],
   "source": [
    "# funcion endswith , termina con \n",
    "if \"30 C\".endswith(\"C\"):\n",
    "    print(\"This temperature is in Celsius\")\n"
   ]
  },
  {
   "cell_type": "code",
   "execution_count": 16,
   "metadata": {},
   "outputs": [
    {
     "data": {
      "text/plain": [
       "'Saturn has a daytime temperature of -170 degrees ºC, while Mars has -28 ºC.'"
      ]
     },
     "execution_count": 16,
     "metadata": {},
     "output_type": "execute_result"
    }
   ],
   "source": [
    "# funcion replace , emplaza\n",
    "'Saturn has a daytime temperature of -170 degrees Celsius, while Mars has -28 Celsius.'.replace('Celsius', 'ºC')"
   ]
  },
  {
   "cell_type": "code",
   "execution_count": 17,
   "metadata": {},
   "outputs": [
    {
     "data": {
      "text/plain": [
       "False"
      ]
     },
     "execution_count": 17,
     "metadata": {},
     "output_type": "execute_result"
    }
   ],
   "source": [
    "# ejemplo de lower\n",
    "text = 'Temperatures on the Moon can vary wildly.'\n",
    "'temperatures' in text\n"
   ]
  },
  {
   "cell_type": "code",
   "execution_count": 18,
   "metadata": {},
   "outputs": [
    {
     "data": {
      "text/plain": [
       "True"
      ]
     },
     "execution_count": 18,
     "metadata": {},
     "output_type": "execute_result"
    }
   ],
   "source": [
    "# ejemplo de lower\n",
    "'temperatures' in text.lower()"
   ]
  },
  {
   "cell_type": "code",
   "execution_count": 20,
   "metadata": {},
   "outputs": [
    {
     "data": {
      "text/plain": [
       "'The Moon is drifting away from the Earth. On average, the Moon is moving about 4cm every year'"
      ]
     },
     "execution_count": 20,
     "metadata": {},
     "output_type": "execute_result"
    }
   ],
   "source": [
    "#metodo Join\n",
    "moon_facts = ['The Moon is drifting away from the Earth.', 'On average, the Moon is moving about 4cm every year']\n",
    "' '.join(moon_facts)\n",
    "#' ' se utiliza como el caracter que une las cadenas\n"
   ]
  },
  {
   "cell_type": "code",
   "execution_count": 21,
   "metadata": {},
   "outputs": [
    {
     "name": "stdout",
     "output_type": "stream",
     "text": [
      "On the Moon, you would weigh about 1/6 of your weight on Earth\n"
     ]
    }
   ],
   "source": [
    "#formato de cadenas con %\n",
    "mass_percentage = '1/6'\n",
    "print('On the Moon, you would weigh about %s of your weight on Earth' % mass_percentage)\n",
    "#funciona como cuando imprimias variables tipo string en lenguaje C"
   ]
  },
  {
   "cell_type": "code",
   "execution_count": 23,
   "metadata": {},
   "outputs": [
    {
     "name": "stdout",
     "output_type": "stream",
     "text": [
      "Both sides of the Moon get the same amount of sunlight,\n",
      "but only one side is seen from Earth because\n",
      "    the Moon rotates around its own axis when it orbits Earth.\n"
     ]
    }
   ],
   "source": [
    "#formato de cadenas con % multiples\n",
    "print(\"\"\"Both sides of the %s get the same amount of sunlight,\n",
    "but only one side is seen from %s because\n",
    "    the %s rotates around its own axis when it orbits %s.\"\"\" % ('Moon', 'Earth', 'Moon', 'Earth'))\n"
   ]
  },
  {
   "cell_type": "code",
   "execution_count": 24,
   "metadata": {},
   "outputs": [
    {
     "name": "stdout",
     "output_type": "stream",
     "text": [
      "On the Moon, you would weigh about 1/6 of your weight on Earth\n"
     ]
    }
   ],
   "source": [
    "#formato de cadenas con funcion format()\n",
    "mass_percentage = '1/6'\n",
    "print('On the Moon, you would weigh about {} of your weight on Earth'.format(mass_percentage))"
   ]
  },
  {
   "cell_type": "code",
   "execution_count": 25,
   "metadata": {},
   "outputs": [
    {
     "name": "stdout",
     "output_type": "stream",
     "text": [
      "You are lighter on the Moon, because on the Moon \n",
      "... you would weigh about 1/6 of your weight on Earth\n"
     ]
    }
   ],
   "source": [
    "#formato de cadenas con funcion format() y multiples \n",
    "print(\"\"\"You are lighter on the {0}, because on the {0} \n",
    "... you would weigh about {1} of your weight on Earth\"\"\".format(\"Moon\", mass_percentage))"
   ]
  },
  {
   "cell_type": "code",
   "execution_count": 26,
   "metadata": {},
   "outputs": [
    {
     "name": "stdout",
     "output_type": "stream",
     "text": [
      "On the Moon, you would weigh about 1/6 of your weight on Earth\n"
     ]
    }
   ],
   "source": [
    "#otra forma de usar format\n",
    "print(f'On the Moon, you would weigh about {mass_percentage} of your weight on Earth')\n"
   ]
  },
  {
   "cell_type": "code",
   "execution_count": 28,
   "metadata": {},
   "outputs": [
    {
     "data": {
      "text/plain": [
       "0.3333333"
      ]
     },
     "execution_count": 28,
     "metadata": {},
     "output_type": "execute_result"
    }
   ],
   "source": [
    "#funcion Round, convierte una fraccion a decimal\n",
    "round(1/3, 7)\n",
    "#el primer paramaetro es la fraccion , el segundo parametro es la cantidad de decimales"
   ]
  },
  {
   "cell_type": "code",
   "execution_count": 29,
   "metadata": {},
   "outputs": [
    {
     "name": "stdout",
     "output_type": "stream",
     "text": [
      "On the Moon, you would weigh about 16.7% of your weight on Earth\n"
     ]
    }
   ],
   "source": [
    "#f con funcion rond\n",
    "print(f'On the Moon, you would weigh about {round(100/6, 1)}% of your weight on Earth')"
   ]
  },
  {
   "cell_type": "code",
   "execution_count": 30,
   "metadata": {},
   "outputs": [
    {
     "data": {
      "text/plain": [
       "'Interesting Facts About The Moon'"
      ]
     },
     "execution_count": 30,
     "metadata": {},
     "output_type": "execute_result"
    }
   ],
   "source": [
    "#f con funcion title\n",
    "subject = 'interesting facts about the moon'\n",
    "f'{subject.title()}'"
   ]
  }
 ],
 "metadata": {
  "interpreter": {
   "hash": "d2cadd893bfc71037801024f08fbf77d5b60b7694862eb4e2a43dfb50428443c"
  },
  "kernelspec": {
   "display_name": "Python 3.9.10 64-bit (system)",
   "language": "python",
   "name": "python3"
  },
  "language_info": {
   "codemirror_mode": {
    "name": "ipython",
    "version": 3
   },
   "file_extension": ".py",
   "mimetype": "text/x-python",
   "name": "python",
   "nbconvert_exporter": "python",
   "pygments_lexer": "ipython3",
   "version": "3.9.10"
  },
  "orig_nbformat": 4
 },
 "nbformat": 4,
 "nbformat_minor": 2
}
