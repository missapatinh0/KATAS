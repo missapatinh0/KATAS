{
 "cells": [
  {
   "cell_type": "code",
   "execution_count": null,
   "metadata": {},
   "outputs": [],
   "source": [
    "# suma\n",
    "res_suma = 30 + 12\n",
    "print(res_suma)"
   ]
  },
  {
   "cell_type": "code",
   "execution_count": 1,
   "metadata": {},
   "outputs": [
    {
     "name": "stdout",
     "output_type": "stream",
     "text": [
      "18\n"
     ]
    }
   ],
   "source": [
    "#RESTA\n",
    "res_esta = 30 - 12\n",
    "print(res_esta)"
   ]
  },
  {
   "cell_type": "code",
   "execution_count": 3,
   "metadata": {},
   "outputs": [
    {
     "name": "stdout",
     "output_type": "stream",
     "text": [
      "360\n"
     ]
    }
   ],
   "source": [
    "#multiplicacion\n",
    "res_multiplicacion = 30 * 12\n",
    "print(res_multiplicacion)"
   ]
  },
  {
   "cell_type": "code",
   "execution_count": 4,
   "metadata": {},
   "outputs": [
    {
     "name": "stdout",
     "output_type": "stream",
     "text": [
      "2.5\n"
     ]
    }
   ],
   "source": [
    "#division\n",
    "res_division = 30 / 12\n",
    "print(res_division)"
   ]
  },
  {
   "cell_type": "code",
   "execution_count": 5,
   "metadata": {},
   "outputs": [
    {
     "name": "stdout",
     "output_type": "stream",
     "text": [
      "17\n"
     ]
    }
   ],
   "source": [
    "#division de piso, redondea hacia abajo\n",
    "seg = 1042\n",
    "muestra_min = 1042 // 60\n",
    "print(muestra_min)"
   ]
  },
  {
   "cell_type": "code",
   "execution_count": 10,
   "metadata": {},
   "outputs": [
    {
     "name": "stdout",
     "output_type": "stream",
     "text": [
      "los min son: \n",
      "17\n",
      "\n",
      "los seg son: \n",
      "22\n"
     ]
    }
   ],
   "source": [
    "#modulo %\n",
    "seg = 1042\n",
    "muestra_min = 1042 // 60\n",
    "muestra_seg = 1042 % 60\n",
    "\n",
    "print('los min son: ')\n",
    "print(muestra_min)\n",
    "print('\\nlos seg son: ')\n",
    "print(muestra_seg)\n"
   ]
  },
  {
   "cell_type": "code",
   "execution_count": 11,
   "metadata": {},
   "outputs": [
    {
     "name": "stdout",
     "output_type": "stream",
     "text": [
      "1084\n",
      "1084\n"
     ]
    }
   ],
   "source": [
    "#jerarquia de operaciones\n",
    "res1 = 1032 + 26 * 2\n",
    "res2 = 1032 + (26 * 2)\n",
    "\n",
    "print(res1)\n",
    "print(res2)\n"
   ]
  },
  {
   "cell_type": "code",
   "execution_count": 12,
   "metadata": {},
   "outputs": [
    {
     "name": "stdout",
     "output_type": "stream",
     "text": [
      "215\n"
     ]
    }
   ],
   "source": [
    "#convertir cadena a numero\n",
    "# Convertir a  entero\n",
    "conv_int = int('215')\n",
    "print(conv_int)"
   ]
  },
  {
   "cell_type": "code",
   "execution_count": 13,
   "metadata": {},
   "outputs": [
    {
     "name": "stdout",
     "output_type": "stream",
     "text": [
      "215.3\n"
     ]
    }
   ],
   "source": [
    "#convertir cadena a numero\n",
    "# Convertir a decimal\n",
    "conv_deci = float('215.3')\n",
    "print(conv_deci)"
   ]
  },
  {
   "cell_type": "code",
   "execution_count": 14,
   "metadata": {},
   "outputs": [
    {
     "name": "stdout",
     "output_type": "stream",
     "text": [
      "23\n",
      "23\n"
     ]
    }
   ],
   "source": [
    "#valor absoluto\n",
    "print(abs(39 - 16))\n",
    "print(abs(16 - 39))"
   ]
  },
  {
   "cell_type": "code",
   "execution_count": 17,
   "metadata": {},
   "outputs": [
    {
     "name": "stdout",
     "output_type": "stream",
     "text": [
      "15\n"
     ]
    }
   ],
   "source": [
    "#redondeo hacia arriba con round partir del .6\n",
    "print(round(14.6))"
   ]
  },
  {
   "cell_type": "code",
   "execution_count": 18,
   "metadata": {},
   "outputs": [
    {
     "name": "stdout",
     "output_type": "stream",
     "text": [
      "13\n",
      "12\n"
     ]
    }
   ],
   "source": [
    "#redondeo hacia arriba y hacia abajo con math\n",
    "from math import ceil, floor\n",
    "\n",
    "redondeo_arriba = ceil(12.5)\n",
    "print(redondeo_arriba)\n",
    "\n",
    "redondeo_abajo = floor(12.5)\n",
    "print(redondeo_abajo)\n"
   ]
  }
 ],
 "metadata": {
  "interpreter": {
   "hash": "d2cadd893bfc71037801024f08fbf77d5b60b7694862eb4e2a43dfb50428443c"
  },
  "kernelspec": {
   "display_name": "Python 3.9.10 64-bit (system)",
   "language": "python",
   "name": "python3"
  },
  "language_info": {
   "codemirror_mode": {
    "name": "ipython",
    "version": 3
   },
   "file_extension": ".py",
   "mimetype": "text/x-python",
   "name": "python",
   "nbconvert_exporter": "python",
   "pygments_lexer": "ipython3",
   "version": "3.9.10"
  },
  "orig_nbformat": 4
 },
 "nbformat": 4,
 "nbformat_minor": 2
}
